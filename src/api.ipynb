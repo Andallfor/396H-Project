{
 "cells": [
  {
   "cell_type": "code",
   "execution_count": 83,
   "metadata": {},
   "outputs": [],
   "source": [
    "from processing.database import Database\n",
    "import pandas as pd\n",
    "import matplotlib.pyplot as plt\n",
    "\n",
    "pd.options.display.max_rows = 100\n",
    "pd.options.display.max_columns = 100"
   ]
  },
  {
   "cell_type": "code",
   "execution_count": 84,
   "metadata": {},
   "outputs": [],
   "source": [
    "db = Database('../data/database.db')\n",
    "cmt = db.query('SELECT * FROM comments')"
   ]
  },
  {
   "cell_type": "code",
   "execution_count": 85,
   "metadata": {},
   "outputs": [
    {
     "name": "stdout",
     "output_type": "stream",
     "text": [
      "<class 'pandas.core.frame.DataFrame'>\n",
      "RangeIndex: 100000 entries, 0 to 99999\n",
      "Data columns (total 21 columns):\n",
      " #   Column            Non-Null Count   Dtype \n",
      "---  ------            --------------   ----- \n",
      " 0   num_sentences     100000 non-null  int64 \n",
      " 1   edited            100000 non-null  int64 \n",
      " 2   removal_type      100000 non-null  int64 \n",
      " 3   collapsed         100000 non-null  int64 \n",
      " 4   distinguished     100000 non-null  int64 \n",
      " 5   subreddit_type    100000 non-null  int64 \n",
      " 6   author            100000 non-null  object\n",
      " 7   body              100000 non-null  object\n",
      " 8   created_utc       100000 non-null  int64 \n",
      " 9   archived          100000 non-null  int64 \n",
      " 10  controversiality  100000 non-null  int64 \n",
      " 11  id                100000 non-null  object\n",
      " 12  link_id           100000 non-null  object\n",
      " 13  locked            100000 non-null  int64 \n",
      " 14  is_submitter      100000 non-null  int64 \n",
      " 15  parent_id         100000 non-null  object\n",
      " 16  score             100000 non-null  int64 \n",
      " 17  subreddit_id      100000 non-null  object\n",
      " 18  subreddit         100000 non-null  object\n",
      " 19  stickied          100000 non-null  int64 \n",
      " 20  permalink         100000 non-null  object\n",
      "dtypes: int64(13), object(8)\n",
      "memory usage: 16.0+ MB\n",
      "None\n",
      "   num_sentences  edited  removal_type  collapsed  distinguished  \\\n",
      "0              4       0             0          0              1   \n",
      "1              1       0             0          0              0   \n",
      "2              2       0             0          0              0   \n",
      "3             15       0             0          0              0   \n",
      "4              2       0             0          0              0   \n",
      "\n",
      "   subreddit_type               author  \\\n",
      "0               0        AutoModerator   \n",
      "1               2             mjohn208   \n",
      "2               0  Odd_Combination3962   \n",
      "3               0       HopefulEndoMom   \n",
      "4               0   Ordinary-Hyena-100   \n",
      "\n",
      "                                                body  created_utc  archived  \\\n",
      "0  Your post has been removed for promotional act...   1751328000         0   \n",
      "1          Fuck yeah but you are playing hard to get   1751328000         0   \n",
      "2  Not sleeping angry or till you sort a fight.\\n...   1751328000         0   \n",
      "3  Sorry for the long post. Just need to get this...   1751328000         0   \n",
      "4  True, thanks. The only issue is this is on mer...   1751328000         0   \n",
      "\n",
      "   controversiality       id     link_id  locked  is_submitter   parent_id  \\\n",
      "0                 0  n0o72oo  t3_1lonc2b       0             0  t3_1lonc2b   \n",
      "1                 0  n0o72op  t3_1lmnb2r       0             0  t3_1lmnb2r   \n",
      "2                 0  n0o72oq  t3_1log79a       0             0  t3_1log79a   \n",
      "3                 0  n0o72or  t3_1lobbja       0             0  t3_1lobbja   \n",
      "4                 0  n0o72os  t3_1lo2ndi       0             1  t1_n0nsf7y   \n",
      "\n",
      "   score subreddit_id           subreddit  stickied  \\\n",
      "0      1     t5_2rjnm               traps         0   \n",
      "1      2    t5_7vcsfn            u_BELA2C         0   \n",
      "2      1     t5_2qh1i           AskReddit         0   \n",
      "3      8     t5_jmn1m  PregnancyAfterLoss         0   \n",
      "4      1    t5_52a3lj             Lizlisa         0   \n",
      "\n",
      "                                           permalink  \n",
      "0  /r/traps/comments/1lonc2b/what_can_i_say_i_lov...  \n",
      "1  /r/u_BELA2C/comments/1lmnb2r/would_you_lick_me...  \n",
      "2  /r/AskReddit/comments/1log79a/whats_actually_u...  \n",
      "3  /r/PregnancyAfterLoss/comments/1lobbja/daily_t...  \n",
      "4  /r/Lizlisa/comments/1lo2ndi/older_liz_lisa_otk...  \n"
     ]
    }
   ],
   "source": [
    "print(cmt.info(verbose = True))\n",
    "print(cmt.head())"
   ]
  },
  {
   "cell_type": "code",
   "execution_count": 86,
   "metadata": {},
   "outputs": [
    {
     "data": {
      "text/html": [
       "<div>\n",
       "<style scoped>\n",
       "    .dataframe tbody tr th:only-of-type {\n",
       "        vertical-align: middle;\n",
       "    }\n",
       "\n",
       "    .dataframe tbody tr th {\n",
       "        vertical-align: top;\n",
       "    }\n",
       "\n",
       "    .dataframe thead th {\n",
       "        text-align: right;\n",
       "    }\n",
       "</style>\n",
       "<table border=\"1\" class=\"dataframe\">\n",
       "  <thead>\n",
       "    <tr style=\"text-align: right;\">\n",
       "      <th></th>\n",
       "      <th>edited</th>\n",
       "    </tr>\n",
       "  </thead>\n",
       "  <tbody>\n",
       "    <tr>\n",
       "      <th>count</th>\n",
       "      <td>100000.0</td>\n",
       "    </tr>\n",
       "    <tr>\n",
       "      <th>mean</th>\n",
       "      <td>0.0</td>\n",
       "    </tr>\n",
       "    <tr>\n",
       "      <th>std</th>\n",
       "      <td>0.0</td>\n",
       "    </tr>\n",
       "    <tr>\n",
       "      <th>min</th>\n",
       "      <td>0.0</td>\n",
       "    </tr>\n",
       "    <tr>\n",
       "      <th>25%</th>\n",
       "      <td>0.0</td>\n",
       "    </tr>\n",
       "    <tr>\n",
       "      <th>50%</th>\n",
       "      <td>0.0</td>\n",
       "    </tr>\n",
       "    <tr>\n",
       "      <th>75%</th>\n",
       "      <td>0.0</td>\n",
       "    </tr>\n",
       "    <tr>\n",
       "      <th>max</th>\n",
       "      <td>0.0</td>\n",
       "    </tr>\n",
       "  </tbody>\n",
       "</table>\n",
       "</div>"
      ],
      "text/plain": [
       "         edited\n",
       "count  100000.0\n",
       "mean        0.0\n",
       "std         0.0\n",
       "min         0.0\n",
       "25%         0.0\n",
       "50%         0.0\n",
       "75%         0.0\n",
       "max         0.0"
      ]
     },
     "execution_count": 86,
     "metadata": {},
     "output_type": "execute_result"
    }
   ],
   "source": [
    "out = cmt.describe().transpose()\n",
    "out[out['std'] == 0].transpose() # std == 0 means that these are likely useless"
   ]
  },
  {
   "cell_type": "code",
   "execution_count": 87,
   "metadata": {},
   "outputs": [
    {
     "name": "stdout",
     "output_type": "stream",
     "text": [
      "count    100000.000000\n",
      "mean          2.404100\n",
      "std           3.294552\n",
      "min           1.000000\n",
      "25%           1.000000\n",
      "50%           1.000000\n",
      "75%           3.000000\n",
      "max         186.000000\n",
      "Name: num_sentences, dtype: float64\n"
     ]
    },
    {
     "data": {
      "text/plain": [
       "<Axes: >"
      ]
     },
     "execution_count": 87,
     "metadata": {},
     "output_type": "execute_result"
    },
    {
     "data": {
      "image/png": "[encoded data removed]",
      "text/plain": [
       "<Figure size 640x480 with 1 Axes>"
      ]
     },
     "metadata": {},
     "output_type": "display_data"
    }
   ],
   "source": [
    "print(cmt['num_sentences'].describe())\n",
    "cmt['num_sentences'].hist(bins = 100)"
   ]
  },
  {
   "cell_type": "code",
   "execution_count": 88,
   "metadata": {},
   "outputs": [
    {
     "data": {
      "text/plain": [
       "np.float64(0.25431)"
      ]
     },
     "execution_count": 88,
     "metadata": {},
     "output_type": "execute_result"
    }
   ],
   "source": [
    "(cmt[cmt['num_sentences'] >= 3]['num_sentences']).count() / cmt['num_sentences'].count()"
   ]
  },
  {
   "cell_type": "code",
   "execution_count": 89,
   "metadata": {},
   "outputs": [
    {
     "name": "stdout",
     "output_type": "stream",
     "text": [
      "       num_sentences  edited  removal_type  collapsed  distinguished  \\\n",
      "56553              2       0             0          0              0   \n",
      "\n",
      "       subreddit_type           author  \\\n",
      "56553               0  Speederbear9422   \n",
      "\n",
      "                                                    body  created_utc  \\\n",
      "56553  Thats not physically possible unless she was i...   1751328418   \n",
      "\n",
      "       archived  controversiality       id     link_id  locked  is_submitter  \\\n",
      "56553         0                 0  n0o8aix  t3_1lon1ld       0             0   \n",
      "\n",
      "        parent_id  score subreddit_id          subreddit  stickied  \\\n",
      "56553  t3_1lon1ld   -474     t5_30tmh  TwoSentenceHorror         0   \n",
      "\n",
      "                                               permalink  \n",
      "56553  /r/TwoSentenceHorror/comments/1lon1ld/the_poli...  \n",
      "/r/TwoSentenceHorror/comments/1lon1ld/the_police_found_my_missing_daughters_dress_in/n0o8aix/\n"
     ]
    }
   ],
   "source": [
    "v = cmt[cmt['score'] == cmt['score'].min()]\n",
    "print(v)\n",
    "print(v['permalink'].values[0])"
   ]
  },
  {
   "cell_type": "code",
   "execution_count": 90,
   "metadata": {},
   "outputs": [
    {
     "data": {
      "text/plain": [
       "'/r/MurderedByWords/comments/1lomi26/choosing_beggar_takedown/n0o72ov/'"
      ]
     },
     "execution_count": 90,
     "metadata": {},
     "output_type": "execute_result"
    }
   ],
   "source": [
    "cmt[cmt['controversiality'] == cmt['controversiality'].max()]['permalink'].values[0]"
   ]
  },
  {
   "cell_type": "code",
   "execution_count": 91,
   "metadata": {},
   "outputs": [
    {
     "data": {
      "text/plain": [
       "'/r/Calgary/comments/1ln4cip/gender_reveal_and_then_litter_in_bowness_park/n0o90ul/'"
      ]
     },
     "execution_count": 91,
     "metadata": {},
     "output_type": "execute_result"
    }
   ],
   "source": [
    "v = cmt[cmt['num_sentences'] == cmt['num_sentences'].max()]\n",
    "v['permalink'].values[0]"
   ]
  },
  {
   "cell_type": "code",
   "execution_count": 92,
   "metadata": {},
   "outputs": [
    {
     "name": "stdout",
     "output_type": "stream",
     "text": [
      "distinguished\n",
      "0    96240\n",
      "1     3760\n",
      "Name: count, dtype: int64\n",
      "distinguished\n",
      "0    96240\n",
      "1      733\n",
      "Name: count, dtype: int64\n",
      "Empty DataFrame\n",
      "Columns: [num_sentences, edited, removal_type, collapsed, distinguished, subreddit_type, author, body, created_utc, archived, controversiality, id, link_id, locked, is_submitter, parent_id, score, subreddit_id, subreddit, stickied, permalink]\n",
      "Index: []\n"
     ]
    }
   ],
   "source": [
    "print(cmt['distinguished'].value_counts())\n",
    "print(cmt[cmt['author'] != 'AutoModerator']['distinguished'].value_counts())\n",
    "\n",
    "print(cmt[cmt['distinguished'] == 2])"
   ]
  },
  {
   "cell_type": "code",
   "execution_count": 93,
   "metadata": {},
   "outputs": [
    {
     "name": "stderr",
     "output_type": "stream",
     "text": [
      "2025-10-04 19:38:40 INFO: Checking for updates to resources.json in case models have been updated.  Note: this behavior can be turned off with download_method=None or download_method=DownloadMethod.REUSE_RESOURCES\n"
     ]
    },
    {
     "name": "stderr",
     "output_type": "stream",
     "text": [
      "Downloading https://raw.githubusercontent.com/stanfordnlp/stanza-resources/main/resources_1.10.0.json: 434kB [00:00, 4.75MB/s]                    \n",
      "2025-10-04 19:38:40 INFO: Downloaded file to C:\\Users\\andallfor\\stanza_resources\\resources.json\n",
      "2025-10-04 19:38:40 WARNING: Language en package default expects mwt, which has been added\n",
      "2025-10-04 19:38:40 INFO: Loading these models for language: en (English):\n",
      "========================\n",
      "| Processor | Package  |\n",
      "------------------------\n",
      "| tokenize  | combined |\n",
      "| mwt       | combined |\n",
      "========================\n",
      "\n",
      "2025-10-04 19:38:40 INFO: Using device: cpu\n",
      "2025-10-04 19:38:40 INFO: Loading: tokenize\n",
      "2025-10-04 19:38:40 INFO: Loading: mwt\n",
      "2025-10-04 19:38:40 INFO: Done loading processors!\n"
     ]
    },
    {
     "name": "stdout",
     "output_type": "stream",
     "text": [
      "Completion = 0.9"
     ]
    }
   ],
   "source": [
    "import stanza\n",
    "import simpletransformers.classification as cl\n",
    "import re\n",
    "\n",
    "p = stanza.Pipeline(lang=\"en\", processors=\"tokenize\")\n",
    "\n",
    "count = len(cmt['body'])\n",
    "\n",
    "buf_docid = []\n",
    "buf_id = []\n",
    "buf_text = []\n",
    "\n",
    "for n in range(count):\n",
    "    if n % 10_000 == 0:\n",
    "        print(f'\\rCompletion = {n / count}', end='')\n",
    "\n",
    "    if cmt['num_sentences'][n] < 3:\n",
    "        continue\n",
    "    \n",
    "    # note that this gets rid of punctuation\n",
    "    sentenceDelimiter = re.compile(r'((?:\\.|\\?|!|\\S$)(?:\\s|$))', flags = re.MULTILINE)\n",
    "\n",
    "    one_text = [x.strip() for x in re.split(sentenceDelimiter, cmt['body'][n])]\n",
    "    if not one_text[-1]:\n",
    "        del one_text[-1]\n",
    "\n",
    "    if len(one_text) % 2 == 1:\n",
    "        raise Exception\n",
    "\n",
    "    c = int(len(one_text) / 2)\n",
    "    for t in range(c):\n",
    "        buf_docid.append(n + 1)\n",
    "        buf_id.append(t + 1)\n",
    "        buf_text.append(one_text[2 * t] + one_text[2 * t + 1])\n",
    "\n",
    "sentences_final = pd.DataFrame({\n",
    "    'doc_id': buf_docid,\n",
    "    'id': buf_id,\n",
    "    'text': buf_text\n",
    "})\n",
    "\n",
    "buf_docid = []\n",
    "buf_id = []\n",
    "buf_text = []\n",
    "\n"
   ]
  },
  {
   "cell_type": "code",
   "execution_count": 98,
   "metadata": {},
   "outputs": [
    {
     "name": "stdout",
     "output_type": "stream",
     "text": [
      "Completion = 0.78644174432778895"
     ]
    }
   ],
   "source": [
    "# Wrangle extracted sentences into sentence trigrams\n",
    "u_docs = sentences_final[\"doc_id\"].unique()\n",
    "\n",
    "buf_tri = []\n",
    "buf_docid = []\n",
    "buf_id = []\n",
    "\n",
    "cp = sentences_final['doc_id']\n",
    "tt = sentences_final['text']\n",
    "\n",
    "jj = len(cp)\n",
    "\n",
    "count = len(u_docs)\n",
    "j = 0\n",
    "for n in range(count):\n",
    "    if n % 10_000 == 0:\n",
    "        print(f'\\rCompletion = {n / count}', end='')\n",
    "\n",
    "    doc_id = u_docs[n]\n",
    "    text = []\n",
    "    while j < jj and cp[j] == doc_id:\n",
    "        text.append(tt[j])\n",
    "        j += 1\n",
    "\n",
    "    if len(text) < 3:\n",
    "        sentence_trigram = [' '.join(text)]\n",
    "    else:\n",
    "        # create trigrams\n",
    "        sentence_trigram = []\n",
    "        for i in range(len(text) - 2):\n",
    "            sentence_trigram.append(text[i] + ' ' + text[i + 1] + ' ' + text[i + 2])\n",
    "\n",
    "    for i in range(len(sentence_trigram)):\n",
    "        buf_tri.append(sentence_trigram[i])\n",
    "        buf_id.append(i + 1)\n",
    "        buf_docid.append(doc_id)\n",
    "\n",
    "# concatenate all the new data into a final DataFrame\n",
    "final = pd.DataFrame({\n",
    "    'sent_trigram': buf_tri,\n",
    "    'id': buf_id,\n",
    "    'doc_id': buf_docid,\n",
    "})\n",
    "\n",
    "buf_tri = []\n",
    "buf_docid = []\n",
    "buf_id = []"
   ]
  },
  {
   "cell_type": "code",
   "execution_count": 101,
   "metadata": {},
   "outputs": [
    {
     "name": "stdout",
     "output_type": "stream",
     "text": [
      "Number of comments: 25431\n",
      "Number of trigrams: 94176\n"
     ]
    }
   ],
   "source": [
    "print(f\"Number of comments: {len(u_docs)}\")\n",
    "print(f'Number of trigrams: {len(final['sent_trigram'])}')"
   ]
  },
  {
   "cell_type": "code",
   "execution_count": 103,
   "metadata": {},
   "outputs": [
    {
     "name": "stderr",
     "output_type": "stream",
     "text": [
      "  0%|          | 0/188 [00:00<?, ?it/s]"
     ]
    }
   ],
   "source": [
    "# Load authdetect model and predict (don't use multiprocessing for larger text since it causes stalling)\n",
    "model = cl.ClassificationModel(\"roberta\",\n",
    "                               \"mmochtak/authdetect\", \n",
    "                               args={\"use_multiprocessing_for_evaluation\": True,},\n",
    "                               use_cuda=False\n",
    "                               )\n",
    "\n",
    "# Annotate the prepared trigrams with the authdetect model.\n",
    "prediction = model.predict(to_predict = final[\"sent_trigram\"].tolist())\n",
    "\n",
    "anno_df = final.assign(predict = prediction[1])\n",
    "\n",
    "scores = prediction[1] if isinstance(prediction, tuple) and len(prediction) >= 2 else prediction\n",
    "\n",
    "anno_df_speech = anno_df.groupby('doc_id').agg(\n",
    "    demo=('predict', lambda x: x.mean()),\n",
    "    auth=('predict', lambda x: 1 - x.mean()),\n",
    "    auth_sent=('predict', lambda x: (x <= 0.5).mean()),\n",
    "    num_sent=('predict', lambda x: x.size),\n",
    "    predict_std=('predict', lambda x: x.std(ddof=0)),\n",
    ").reset_index()"
   ]
  },
  {
   "cell_type": "code",
   "execution_count": null,
   "metadata": {},
   "outputs": [],
   "source": [
    "anno_df_speech['auth'].hist(bins=100)"
   ]
  },
  {
   "cell_type": "code",
   "execution_count": null,
   "metadata": {},
   "outputs": [],
   "source": [
    "anno_df.to_sql('anno_df.db')\n",
    "anno_df_speech.to_sql('anno_df_speech.db')"
   ]
  }
 ],
 "metadata": {
  "kernelspec": {
   "display_name": "Python 3",
   "language": "python",
   "name": "python3"
  },
  "language_info": {
   "codemirror_mode": {
    "name": "ipython",
    "version": 3
   },
   "file_extension": ".py",
   "mimetype": "text/x-python",
   "name": "python",
   "nbconvert_exporter": "python",
   "pygments_lexer": "ipython3",
   "version": "3.13.2"
  }
 },
 "nbformat": 4,
 "nbformat_minor": 2
}
