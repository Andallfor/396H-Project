{
 "cells": [
  {
   "cell_type": "code",
   "execution_count": 1,
   "metadata": {},
   "outputs": [],
   "source": [
    "from processing.database import Database\n",
    "import pandas as pd\n",
    "import matplotlib.pyplot as plt\n",
    "\n",
    "pd.options.display.max_rows = 100\n",
    "pd.options.display.max_columns = 100"
   ]
  },
  {
   "cell_type": "code",
   "execution_count": 2,
   "metadata": {},
   "outputs": [],
   "source": [
    "db = Database('../data/database.db')\n",
    "cmt = db.query('SELECT * FROM comments')"
   ]
  },
  {
   "cell_type": "code",
   "execution_count": 3,
   "metadata": {},
   "outputs": [
    {
     "name": "stdout",
     "output_type": "stream",
     "text": [
      "<class 'pandas.core.frame.DataFrame'>\n",
      "RangeIndex: 5000000 entries, 0 to 4999999\n",
      "Data columns (total 21 columns):\n",
      " #   Column            Dtype \n",
      "---  ------            ----- \n",
      " 0   num_sentences     int64 \n",
      " 1   edited            int64 \n",
      " 2   removal_type      int64 \n",
      " 3   collapsed         int64 \n",
      " 4   distinguished     int64 \n",
      " 5   subreddit_type    int64 \n",
      " 6   author            object\n",
      " 7   body              object\n",
      " 8   created_utc       int64 \n",
      " 9   archived          int64 \n",
      " 10  controversiality  int64 \n",
      " 11  id                object\n",
      " 12  link_id           object\n",
      " 13  locked            int64 \n",
      " 14  is_submitter      int64 \n",
      " 15  parent_id         object\n",
      " 16  score             int64 \n",
      " 17  subreddit_id      object\n",
      " 18  subreddit         object\n",
      " 19  stickied          int64 \n",
      " 20  permalink         object\n",
      "dtypes: int64(13), object(8)\n",
      "memory usage: 801.1+ MB\n",
      "None\n",
      "   num_sentences  edited  removal_type  collapsed  distinguished  \\\n",
      "0              5       0             0          0              1   \n",
      "1              2       0             0          0              0   \n",
      "2              3       0             0          0              0   \n",
      "3             16       0             0          0              0   \n",
      "4              3       0             0          0              0   \n",
      "\n",
      "   subreddit_type               author  \\\n",
      "0               0        AutoModerator   \n",
      "1               2             mjohn208   \n",
      "2               0  Odd_Combination3962   \n",
      "3               0       HopefulEndoMom   \n",
      "4               0   Ordinary-Hyena-100   \n",
      "\n",
      "                                                body  created_utc  archived  \\\n",
      "0  Your post has been removed for promotional act...   1751328000         0   \n",
      "1          Fuck yeah but you are playing hard to get   1751328000         0   \n",
      "2  Not sleeping angry or till you sort a fight.\\n...   1751328000         0   \n",
      "3  Sorry for the long post. Just need to get this...   1751328000         0   \n",
      "4  True, thanks. The only issue is this is on mer...   1751328000         0   \n",
      "\n",
      "   controversiality       id     link_id  locked  is_submitter   parent_id  \\\n",
      "0                 0  n0o72oo  t3_1lonc2b       0             0  t3_1lonc2b   \n",
      "1                 0  n0o72op  t3_1lmnb2r       0             0  t3_1lmnb2r   \n",
      "2                 0  n0o72oq  t3_1log79a       0             0  t3_1log79a   \n",
      "3                 0  n0o72or  t3_1lobbja       0             0  t3_1lobbja   \n",
      "4                 0  n0o72os  t3_1lo2ndi       0             1  t1_n0nsf7y   \n",
      "\n",
      "   score subreddit_id           subreddit  stickied  \\\n",
      "0      1     t5_2rjnm               traps         0   \n",
      "1      2    t5_7vcsfn            u_BELA2C         0   \n",
      "2      1     t5_2qh1i           AskReddit         0   \n",
      "3      8     t5_jmn1m  PregnancyAfterLoss         0   \n",
      "4      1    t5_52a3lj             Lizlisa         0   \n",
      "\n",
      "                                           permalink  \n",
      "0  /r/traps/comments/1lonc2b/what_can_i_say_i_lov...  \n",
      "1  /r/u_BELA2C/comments/1lmnb2r/would_you_lick_me...  \n",
      "2  /r/AskReddit/comments/1log79a/whats_actually_u...  \n",
      "3  /r/PregnancyAfterLoss/comments/1lobbja/daily_t...  \n",
      "4  /r/Lizlisa/comments/1lo2ndi/older_liz_lisa_otk...  \n"
     ]
    }
   ],
   "source": [
    "print(cmt.info(verbose = True))\n",
    "print(cmt.head())"
   ]
  },
  {
   "cell_type": "code",
   "execution_count": 4,
   "metadata": {},
   "outputs": [
    {
     "data": {
      "text/html": [
       "<div>\n",
       "<style scoped>\n",
       "    .dataframe tbody tr th:only-of-type {\n",
       "        vertical-align: middle;\n",
       "    }\n",
       "\n",
       "    .dataframe tbody tr th {\n",
       "        vertical-align: top;\n",
       "    }\n",
       "\n",
       "    .dataframe thead th {\n",
       "        text-align: right;\n",
       "    }\n",
       "</style>\n",
       "<table border=\"1\" class=\"dataframe\">\n",
       "  <thead>\n",
       "    <tr style=\"text-align: right;\">\n",
       "      <th></th>\n",
       "    </tr>\n",
       "  </thead>\n",
       "  <tbody>\n",
       "    <tr>\n",
       "      <th>count</th>\n",
       "    </tr>\n",
       "    <tr>\n",
       "      <th>mean</th>\n",
       "    </tr>\n",
       "    <tr>\n",
       "      <th>std</th>\n",
       "    </tr>\n",
       "    <tr>\n",
       "      <th>min</th>\n",
       "    </tr>\n",
       "    <tr>\n",
       "      <th>25%</th>\n",
       "    </tr>\n",
       "    <tr>\n",
       "      <th>50%</th>\n",
       "    </tr>\n",
       "    <tr>\n",
       "      <th>75%</th>\n",
       "    </tr>\n",
       "    <tr>\n",
       "      <th>max</th>\n",
       "    </tr>\n",
       "  </tbody>\n",
       "</table>\n",
       "</div>"
      ],
      "text/plain": [
       "Empty DataFrame\n",
       "Columns: []\n",
       "Index: [count, mean, std, min, 25%, 50%, 75%, max]"
      ]
     },
     "execution_count": 4,
     "metadata": {},
     "output_type": "execute_result"
    }
   ],
   "source": [
    "out = cmt.describe().transpose()\n",
    "out[out['std'] == 0].transpose() # std == 0 means that these are likely useless"
   ]
  },
  {
   "cell_type": "code",
   "execution_count": 5,
   "metadata": {},
   "outputs": [
    {
     "name": "stdout",
     "output_type": "stream",
     "text": [
      "count    5.000000e+06\n",
      "mean     3.432675e+00\n",
      "std      3.449026e+00\n",
      "min      1.000000e+00\n",
      "25%      2.000000e+00\n",
      "50%      2.000000e+00\n",
      "75%      4.000000e+00\n",
      "max      5.160000e+02\n",
      "Name: num_sentences, dtype: float64\n"
     ]
    },
    {
     "data": {
      "text/plain": [
       "<Axes: >"
      ]
     },
     "execution_count": 5,
     "metadata": {},
     "output_type": "execute_result"
    },
    {
     "data": {
      "image/png": "[encoded data removed]",
      "text/plain": [
       "<Figure size 640x480 with 1 Axes>"
      ]
     },
     "metadata": {},
     "output_type": "display_data"
    }
   ],
   "source": [
    "print(cmt['num_sentences'].describe())\n",
    "cmt['num_sentences'].hist(bins = 100)"
   ]
  },
  {
   "cell_type": "code",
   "execution_count": 6,
   "metadata": {},
   "outputs": [
    {
     "data": {
      "text/plain": [
       "np.float64(0.4609094)"
      ]
     },
     "execution_count": 6,
     "metadata": {},
     "output_type": "execute_result"
    }
   ],
   "source": [
    "(cmt[cmt['num_sentences'] >= 3]['num_sentences']).count() / cmt['num_sentences'].count()"
   ]
  },
  {
   "cell_type": "code",
   "execution_count": 7,
   "metadata": {},
   "outputs": [
    {
     "name": "stdout",
     "output_type": "stream",
     "text": [
      "         num_sentences  edited  removal_type  collapsed  distinguished  \\\n",
      "1941702              3       0             0          0              0   \n",
      "\n",
      "         subreddit_type            author  \\\n",
      "1941702               0  maxwellalbritten   \n",
      "\n",
      "                                                      body  created_utc  \\\n",
      "1941702  Oh, guess we don''t just try stuff to see what...   1751343527   \n",
      "\n",
      "         archived  controversiality       id     link_id  locked  \\\n",
      "1941702         0                 0  n0pcusp  t3_1los3sk       0   \n",
      "\n",
      "         is_submitter   parent_id  score subreddit_id     subreddit  stickied  \\\n",
      "1941702             1  t1_n0pbjpu  -2298    t5_12967t  BaldursGate3         0   \n",
      "\n",
      "                                                 permalink  \n",
      "1941702  /r/BaldursGate3/comments/1los3sk/so_you_assass...  \n",
      "/r/BaldursGate3/comments/1los3sk/so_you_assassinated_the_shadow_druids_too_early/n0pcusp/\n"
     ]
    }
   ],
   "source": [
    "v = cmt[cmt['score'] == cmt['score'].min()]\n",
    "print(v)\n",
    "print(v['permalink'].values[0])"
   ]
  },
  {
   "cell_type": "code",
   "execution_count": 9,
   "metadata": {},
   "outputs": [
    {
     "data": {
      "text/plain": [
       "'/r/MurderedByWords/comments/1lomi26/choosing_beggar_takedown/n0o72ov/'"
      ]
     },
     "execution_count": 9,
     "metadata": {},
     "output_type": "execute_result"
    }
   ],
   "source": [
    "cmt[cmt['controversiality'] == cmt['controversiality'].max()]['permalink'].values[0]"
   ]
  },
  {
   "cell_type": "code",
   "execution_count": 12,
   "metadata": {},
   "outputs": [
    {
     "data": {
      "text/plain": [
       "'/r/GachaLife2/comments/1loo4d7/mikhail_reacts_to_your_ocsand_your_ocs_can_react/n0os1sj/'"
      ]
     },
     "execution_count": 12,
     "metadata": {},
     "output_type": "execute_result"
    }
   ],
   "source": [
    "v = cmt[cmt['num_sentences'] == cmt['num_sentences'].max()]\n",
    "v['permalink'].values[0]"
   ]
  }
 ],
 "metadata": {
  "kernelspec": {
   "display_name": "Python 3",
   "language": "python",
   "name": "python3"
  },
  "language_info": {
   "codemirror_mode": {
    "name": "ipython",
    "version": 3
   },
   "file_extension": ".py",
   "mimetype": "text/x-python",
   "name": "python",
   "nbconvert_exporter": "python",
   "pygments_lexer": "ipython3",
   "version": "3.13.2"
  }
 },
 "nbformat": 4,
 "nbformat_minor": 2
}
